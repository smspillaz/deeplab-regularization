{
 "cells": [
  {
   "cell_type": "code",
   "execution_count": null,
   "metadata": {},
   "outputs": [],
   "source": [
    "import json\n",
    "import os\n",
    "import sys\n",
    "\n",
    "import pandas as pd\n",
    "import numpy as np\n",
    "import seaborn as sns\n",
    "\n",
    "from PIL import Image\n",
    "\n",
    "from itertools import groupby\n",
    "from operator import itemgetter"
   ]
  },
  {
   "cell_type": "code",
   "execution_count": null,
   "metadata": {},
   "outputs": [],
   "source": [
    "def read_partial_json(path):\n",
    "    with open(path, \"r\") as f:\n",
    "        return json.loads(\"[\" + \",\".join([f for f in f.readlines() if f.strip()]) + \"]\")"
   ]
  },
  {
   "cell_type": "code",
   "execution_count": null,
   "metadata": {},
   "outputs": [],
   "source": [
    "statistics = read_partial_json(\"../statistics_first\")"
   ]
  },
  {
   "cell_type": "code",
   "execution_count": null,
   "metadata": {},
   "outputs": [],
   "source": [
    "def fixup_statistics(statistics):\n",
    "    \"\"\"Ensure that every second set of batches in epoch is 'validation' mode.\"\"\"\n",
    "    in_train = True\n",
    "    running_batch_index = 0\n",
    "    \n",
    "    for s in statistics:\n",
    "        if s['batch_index'] < running_batch_index:\n",
    "            in_train = not in_train\n",
    "        \n",
    "        if not in_train:\n",
    "            s['mode'] = 'validation'\n",
    "        \n",
    "        running_batch_index = s['batch_index']"
   ]
  },
  {
   "cell_type": "code",
   "execution_count": null,
   "metadata": {},
   "outputs": [],
   "source": [
    "fixup_statistics(statistics)"
   ]
  },
  {
   "cell_type": "code",
   "execution_count": null,
   "metadata": {},
   "outputs": [],
   "source": [
    "train_statistics = [\n",
    "    (s['statistics']['mIoU'], s['statistics']['loss'])\n",
    "    for s in statistics if s['mode'] == 'train'\n",
    "]\n",
    "val_statistics = [\n",
    "    (s['statistics']['mIoU'], s['statistics']['loss'])\n",
    "    for s in statistics if s['mode'] == 'validation'\n",
    "]\n",
    "train_statistics_by_epoch = [\n",
    "    ((s['epoch'], s['statistics']['mIoU']), (s['epoch'], s['statistics']['loss']))\n",
    "    for s in statistics if s['mode'] == 'train'\n",
    "]\n",
    "val_statistics_by_epoch = [\n",
    "    ((s['epoch'], s['statistics']['mIoU']), (s['epoch'], s['statistics']['loss']))\n",
    "    for s in statistics if s['mode'] == 'validation'\n",
    "]"
   ]
  },
  {
   "cell_type": "code",
   "execution_count": null,
   "metadata": {},
   "outputs": [],
   "source": [
    "train_mious, train_losses = list(zip(*train_statistics))\n",
    "val_mious, val_losses = list(zip(*val_statistics))\n",
    "train_mious_by_epoch, train_losses_by_epoch = list(zip(*train_statistics_by_epoch))\n",
    "val_mious_by_epoch, val_losses_by_epoch = list(zip(*val_statistics_by_epoch))"
   ]
  },
  {
   "cell_type": "code",
   "execution_count": null,
   "metadata": {},
   "outputs": [],
   "source": [
    "sns.lineplot(*list(zip(*train_mious_by_epoch))).set(\n",
    "    xlabel='Epoch',\n",
    "    ylabel='mIoU',\n",
    "    title='Train mIoU (with error margins)'\n",
    ")"
   ]
  },
  {
   "cell_type": "code",
   "execution_count": null,
   "metadata": {},
   "outputs": [],
   "source": [
    "sns.lineplot(*list(zip(*val_mious_by_epoch))).set(\n",
    "    xlabel='Epoch',\n",
    "    ylabel='mIoU',\n",
    "    title='Validation mIoU (with error margins)'\n",
    ")"
   ]
  },
  {
   "cell_type": "code",
   "execution_count": null,
   "metadata": {},
   "outputs": [],
   "source": [
    "sns.lineplot(*list(zip(*train_losses_by_epoch))).set(\n",
    "    xlabel='Epoch',\n",
    "    ylabel='Loss',\n",
    "    title='Training Loss (with error margins)'\n",
    ")"
   ]
  },
  {
   "cell_type": "code",
   "execution_count": null,
   "metadata": {},
   "outputs": [],
   "source": [
    "sns.lineplot(*list(zip(*val_losses_by_epoch))).set(\n",
    "    xlabel='Epoch',\n",
    "    ylabel='Loss',\n",
    "    title='Validation Loss (with error margins)'\n",
    ")"
   ]
  },
  {
   "cell_type": "code",
   "execution_count": null,
   "metadata": {},
   "outputs": [],
   "source": [
    "def visualize_change_in_segmentations(segmentations, image_id, epochs):\n",
    "    \"\"\"Visualize the change in segmentations over the specified epochs\"\"\"\n",
    "    fig, ax = sns.mpl.pyplot.subplots(nrows=len(epochs), ncols=3, figsize=(10,10))\n",
    "    source = Image.open(os.path.join(segmentations, 'image_{}.input.png'.format(image_id)))\n",
    "    label = Image.open(os.path.join(segmentations, 'image_{}.label.png'.format(image_id)))\n",
    "    for i, epoch in enumerate(epochs):\n",
    "        epoch_output = Image.open(os.path.join(segmentations, 'image_{}.epoch.{:02d}.png'.format(image_id, epoch)))\n",
    "        ax[i][0].imshow(source)\n",
    "        ax[i][1].imshow(epoch_output)\n",
    "        ax[i][2].imshow(label)\n",
    "        \n",
    "        ax[i][0].set_ylabel('Epoch {}'.format(epoch), rotation=0, size='large')\n",
    "        \n",
    "    ax[0][0].set_title('Source Image')\n",
    "    ax[0][1].set_title('Network Output')\n",
    "    ax[0][2].set_title('Label')\n",
    "    \n",
    "    fig.show()"
   ]
  },
  {
   "cell_type": "code",
   "execution_count": null,
   "metadata": {},
   "outputs": [],
   "source": [
    "visualize_change_in_segmentations('../logs/segmentations', 1, [1, 2, 3, 4, 5, 6, 7])"
   ]
  },
  {
   "cell_type": "code",
   "execution_count": null,
   "metadata": {},
   "outputs": [],
   "source": [
    "def show_best_and_worst(interesting, epochs):\n",
    "    \"\"\"Visualize the best and worst segementations over the specified epochs\"\"\"\n",
    "    fig, ax = sns.mpl.pyplot.subplots(nrows=len(epochs) * 3, ncols=8, figsize=(15,10))\n",
    "    for i, epoch in enumerate(epochs):\n",
    "        ax[i * 3 + 0][0].imshow(Image.open(os.path.join(interesting, 'image.worst.0.epoch{:02d}.input.png'.format(epoch))))\n",
    "        ax[i * 3 + 0][1].imshow(Image.open(os.path.join(interesting, 'image.worst.1.epoch{:02d}.input.png'.format(epoch))))\n",
    "        ax[i * 3 + 0][2].imshow(Image.open(os.path.join(interesting, 'image.worst.2.epoch{:02d}.input.png'.format(epoch))))\n",
    "        ax[i * 3 + 0][3].imshow(Image.open(os.path.join(interesting, 'image.middle.0.epoch{:02d}.input.png'.format(epoch))))\n",
    "        ax[i * 3 + 0][4].imshow(Image.open(os.path.join(interesting, 'image.middle.1.epoch{:02d}.input.png'.format(epoch))))\n",
    "        ax[i * 3 + 0][5].imshow(Image.open(os.path.join(interesting, 'image.best.0.epoch{:02d}.input.png'.format(epoch))))\n",
    "        ax[i * 3 + 0][6].imshow(Image.open(os.path.join(interesting, 'image.best.1.epoch{:02d}.input.png'.format(epoch))))\n",
    "        ax[i * 3 + 0][7].imshow(Image.open(os.path.join(interesting, 'image.best.2.epoch{:02d}.input.png'.format(epoch))))\n",
    "\n",
    "        ax[i * 3 + 1][0].imshow(Image.open(os.path.join(interesting, 'image.worst.0.epoch{:02d}.segmentation.png'.format(epoch))))\n",
    "        ax[i * 3 + 1][1].imshow(Image.open(os.path.join(interesting, 'image.worst.1.epoch{:02d}.segmentation.png'.format(epoch))))\n",
    "        ax[i * 3 + 1][2].imshow(Image.open(os.path.join(interesting, 'image.worst.2.epoch{:02d}.segmentation.png'.format(epoch))))\n",
    "        ax[i * 3 + 1][3].imshow(Image.open(os.path.join(interesting, 'image.middle.0.epoch{:02d}.segmentation.png'.format(epoch))))\n",
    "        ax[i * 3 + 1][4].imshow(Image.open(os.path.join(interesting, 'image.middle.1.epoch{:02d}.segmentation.png'.format(epoch))))\n",
    "        ax[i * 3 + 1][5].imshow(Image.open(os.path.join(interesting, 'image.best.0.epoch{:02d}.segmentation.png'.format(epoch))))\n",
    "        ax[i * 3 + 1][6].imshow(Image.open(os.path.join(interesting, 'image.best.1.epoch{:02d}.segmentation.png'.format(epoch))))\n",
    "        ax[i * 3 + 1][7].imshow(Image.open(os.path.join(interesting, 'image.best.2.epoch{:02d}.segmentation.png'.format(epoch))))\n",
    "\n",
    "        ax[i * 3 + 2][0].imshow(Image.open(os.path.join(interesting, 'image.worst.0.epoch{:02d}.label.png'.format(epoch))))\n",
    "        ax[i * 3 + 2][1].imshow(Image.open(os.path.join(interesting, 'image.worst.1.epoch{:02d}.label.png'.format(epoch))))\n",
    "        ax[i * 3 + 2][2].imshow(Image.open(os.path.join(interesting, 'image.worst.2.epoch{:02d}.label.png'.format(epoch))))\n",
    "        ax[i * 3 + 2][3].imshow(Image.open(os.path.join(interesting, 'image.middle.0.epoch{:02d}.label.png'.format(epoch))))\n",
    "        ax[i * 3 + 2][4].imshow(Image.open(os.path.join(interesting, 'image.middle.1.epoch{:02d}.label.png'.format(epoch))))\n",
    "        ax[i * 3 + 2][5].imshow(Image.open(os.path.join(interesting, 'image.best.0.epoch{:02d}.label.png'.format(epoch))))\n",
    "        ax[i * 3 + 2][6].imshow(Image.open(os.path.join(interesting, 'image.best.1.epoch{:02d}.label.png'.format(epoch))))\n",
    "        ax[i * 3 + 2][7].imshow(Image.open(os.path.join(interesting, 'image.best.2.epoch{:02d}.label.png'.format(epoch))))\n",
    "\n",
    "        ax[i * 3 + 0][0].set_ylabel('E{} Input'.format(epoch), rotation=0, size='large')\n",
    "        ax[i * 3 + 1][0].set_ylabel('E{} Seg'.format(epoch), rotation=0, size='large')\n",
    "        ax[i * 3 + 2][0].set_ylabel('E{} Label'.format(epoch), rotation=0, size='large')\n",
    "\n",
    "    ax[0][0].set_title('Worst 1')\n",
    "    ax[0][1].set_title('Worst 2')\n",
    "    ax[0][2].set_title('Worst 3')\n",
    "\n",
    "    ax[0][3].set_title('Median 1')\n",
    "    ax[0][4].set_title('Median 2')\n",
    "\n",
    "    ax[0][5].set_title('Best 1')\n",
    "    ax[0][6].set_title('Best 2')\n",
    "    ax[0][7].set_title('Best 3')\n",
    "\n",
    "    fig.show()"
   ]
  },
  {
   "cell_type": "code",
   "execution_count": null,
   "metadata": {},
   "outputs": [],
   "source": [
    "show_best_and_worst('../logs/interesting', [1, 4, 7])"
   ]
  },
  {
   "cell_type": "code",
   "execution_count": null,
   "metadata": {},
   "outputs": [],
   "source": []
  }
 ],
 "metadata": {
  "kernelspec": {
   "display_name": "Python 3",
   "language": "python",
   "name": "python3"
  },
  "language_info": {
   "codemirror_mode": {
    "name": "ipython",
    "version": 3
   },
   "file_extension": ".py",
   "mimetype": "text/x-python",
   "name": "python",
   "nbconvert_exporter": "python",
   "pygments_lexer": "ipython3",
   "version": "3.6.8"
  }
 },
 "nbformat": 4,
 "nbformat_minor": 2
}
