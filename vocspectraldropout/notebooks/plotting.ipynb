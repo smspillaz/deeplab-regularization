{
 "cells": [
  {
   "cell_type": "code",
   "execution_count": null,
   "metadata": {},
   "outputs": [],
   "source": [
    "import json\n",
    "import os\n",
    "import sys\n",
    "\n",
    "import pandas as pd\n",
    "import numpy as np\n",
    "import seaborn as sns\n",
    "\n",
    "from PIL import Image\n",
    "\n",
    "from itertools import groupby\n",
    "from operator import itemgetter"
   ]
  },
  {
   "cell_type": "code",
   "execution_count": null,
   "metadata": {},
   "outputs": [],
   "source": [
    "pd.set_option('precision', 3)"
   ]
  },
  {
   "cell_type": "code",
   "execution_count": null,
   "metadata": {},
   "outputs": [],
   "source": [
    "def read_partial_json(path):\n",
    "    with open(path, \"r\") as f:\n",
    "        return json.loads(\"[\" + \",\".join([f for f in f.readlines() if f.strip()]) + \"]\")"
   ]
  },
  {
   "cell_type": "code",
   "execution_count": null,
   "metadata": {},
   "outputs": [],
   "source": [
    "EXPERIMENT = os.environ.get(\"EXPERIMENT\", \"None\")\n",
    "INPUT_DIR = os.path.expanduser(\"~/Downloads/experiments/{}\").format(EXPERIMENT)\n",
    "OUTPUT_DIR = \"reports/{}\".format(EXPERIMENT)"
   ]
  },
  {
   "cell_type": "code",
   "execution_count": null,
   "metadata": {},
   "outputs": [],
   "source": [
    "os.makedirs(OUTPUT_DIR, exist_ok=True)"
   ]
  },
  {
   "cell_type": "code",
   "execution_count": null,
   "metadata": {},
   "outputs": [],
   "source": [
    "statistics = read_partial_json(os.path.join(INPUT_DIR, \"logs\", \"statistics\"))"
   ]
  },
  {
   "cell_type": "code",
   "execution_count": null,
   "metadata": {},
   "outputs": [],
   "source": [
    "def fixup_statistics_restarts(statistics):\n",
    "    \"\"\"Fix errors caused by restarts in training process.\"\"\"\n",
    "    in_train = True\n",
    "    running_batch_index = 0\n",
    "    running_epoch_index = -1\n",
    "    running_epoch = 0\n",
    "\n",
    "    epoch_statistics = {\n",
    "        'train': [],\n",
    "        'validation': []\n",
    "    }\n",
    "    mode = None\n",
    "    \n",
    "    for s in statistics:\n",
    "        if s['epoch'] > running_epoch and s['mode'] == 'train':\n",
    "            yield from epoch_statistics['train']\n",
    "            yield from epoch_statistics['validation']\n",
    "            epoch_statistics = {\n",
    "                'train': [],\n",
    "                'validation': []\n",
    "            }\n",
    "            running_batch_index = 0\n",
    "\n",
    "        # We reset the batch index without changing modes.\n",
    "        # That's bad. Reset what we had on this mode\n",
    "        if s['batch_index'] < running_batch_index and s['mode'] == mode:\n",
    "            epoch_statistics[mode] = []\n",
    "\n",
    "        mode = s['mode']\n",
    "        running_batch_index = s['batch_index']\n",
    "        epoch_statistics[mode].append(s)"
   ]
  },
  {
   "cell_type": "code",
   "execution_count": null,
   "metadata": {},
   "outputs": [],
   "source": [
    "def fixup_statistics(statistics):\n",
    "    \"\"\"Ensure that every second set of batches in epoch is 'validation' mode.\"\"\"\n",
    "    in_train = True\n",
    "    running_batch_index = 0\n",
    "    \n",
    "    for s in statistics:\n",
    "        if s['batch_index'] < running_batch_index:\n",
    "            in_train = not in_train\n",
    "        \n",
    "        if not in_train:\n",
    "            s['mode'] = 'validation'\n",
    "        \n",
    "        running_batch_index = s['batch_index']"
   ]
  },
  {
   "cell_type": "code",
   "execution_count": null,
   "metadata": {},
   "outputs": [],
   "source": [
    "# fixup_statistics(statistics)\n",
    "statistics = list(fixup_statistics_restarts(statistics))"
   ]
  },
  {
   "cell_type": "code",
   "execution_count": null,
   "metadata": {},
   "outputs": [],
   "source": [
    "train_statistics = [\n",
    "    (s['statistics']['mIoU'], s['statistics']['loss'])\n",
    "    for s in statistics if s['mode'] == 'train'\n",
    "]\n",
    "val_statistics = [\n",
    "    (s['statistics']['mIoU'], s['statistics']['loss'])\n",
    "    for s in statistics if s['mode'] == 'validation'\n",
    "]\n",
    "train_statistics_by_epoch = [\n",
    "    ((s['epoch'], s['statistics']['mIoU']), (s['epoch'], s['statistics']['loss']))\n",
    "    for s in statistics if s['mode'] == 'train'\n",
    "]\n",
    "val_statistics_by_epoch = [\n",
    "    ((s['epoch'], s['statistics']['mIoU']), (s['epoch'], s['statistics']['loss']))\n",
    "    for s in statistics if s['mode'] == 'validation'\n",
    "]"
   ]
  },
  {
   "cell_type": "code",
   "execution_count": null,
   "metadata": {},
   "outputs": [],
   "source": [
    "train_mious, train_losses = list(zip(*train_statistics))\n",
    "val_mious, val_losses = list(zip(*val_statistics))\n",
    "train_mious_by_epoch, train_losses_by_epoch = list(zip(*train_statistics_by_epoch))\n",
    "val_mious_by_epoch, val_losses_by_epoch = list(zip(*val_statistics_by_epoch))"
   ]
  },
  {
   "cell_type": "code",
   "execution_count": null,
   "metadata": {},
   "outputs": [],
   "source": [
    "def generate_lineplot(dataset, bbox=None, **kwargs):\n",
    "    transposed = list(zip(*dataset))\n",
    "    grouped_by_epoch = [\n",
    "        {str(i): r for i, r in enumerate(result)}\n",
    "        for result in [\n",
    "            [g[1] for g in group]\n",
    "            for e, group in groupby(dataset, key=itemgetter(0))\n",
    "        ]\n",
    "    ]\n",
    "    df = pd.DataFrame(grouped_by_epoch)\n",
    "    summary = pd.DataFrame(df.describe().max(axis=1))\n",
    "    summary.columns = [\"Summary\"]\n",
    "    plot = sns.lineplot(*transposed)\n",
    "    plot.set(\n",
    "        **kwargs\n",
    "    )\n",
    "    plot.table(cellText=[['{:.2f}'.format(d[0])] for d in summary.values],\n",
    "               rowLabels=summary.index,\n",
    "               colLabels=summary.columns,\n",
    "               cellLoc='right',\n",
    "               rowLoc='center',\n",
    "               loc='right',\n",
    "               bbox=bbox)\n",
    "    return plot"
   ]
  },
  {
   "cell_type": "code",
   "execution_count": null,
   "metadata": {},
   "outputs": [],
   "source": [
    "train_mious_by_epoch_plot = generate_lineplot(train_mious_by_epoch,\n",
    "                                              xlabel='Epoch',\n",
    "                                              ylabel='mIoU',\n",
    "                                              title='Train mIoU (with error margins)',\n",
    "                                              bbox=[.65,.05,.3,.45])"
   ]
  },
  {
   "cell_type": "code",
   "execution_count": null,
   "metadata": {},
   "outputs": [],
   "source": [
    "val_mious_by_epoch_plot = generate_lineplot(val_mious_by_epoch,\n",
    "                                            xlabel='Epoch',\n",
    "                                            ylabel='mIoU',\n",
    "                                            title='Validation mIoU (with error margins)',\n",
    "                                            bbox=[.65,.05,.3,.45])"
   ]
  },
  {
   "cell_type": "code",
   "execution_count": null,
   "metadata": {},
   "outputs": [],
   "source": [
    "train_loss_by_epoch_plot = generate_lineplot(train_losses_by_epoch,\n",
    "                                             xlabel='Epoch',\n",
    "                                             ylabel='Loss',\n",
    "                                             title='Training Loss (with error margins)',\n",
    "                                             bbox=[.65,.50,.3,.45])"
   ]
  },
  {
   "cell_type": "code",
   "execution_count": null,
   "metadata": {},
   "outputs": [],
   "source": [
    "val_loss_by_epoch_plot = generate_lineplot(val_losses_by_epoch,\n",
    "                                           xlabel='Epoch',\n",
    "                                           ylabel='Loss',\n",
    "                                           title='Validation Loss (with error margins)',\n",
    "                                           bbox=[.65,.50,.3,.45])"
   ]
  },
  {
   "cell_type": "code",
   "execution_count": null,
   "metadata": {},
   "outputs": [],
   "source": [
    "def visualize_change_in_segmentations(segmentations, image_id, epochs):\n",
    "    \"\"\"Visualize the change in segmentations over the specified epochs\"\"\"\n",
    "    fig, ax = sns.mpl.pyplot.subplots(nrows=len(epochs), ncols=3, figsize=(12,20))\n",
    "    source = Image.open(os.path.join(segmentations, 'image_{}.input.png'.format(image_id)))\n",
    "    label = Image.open(os.path.join(segmentations, 'image_{}.label.png'.format(image_id)))\n",
    "    for i, epoch in enumerate(epochs):\n",
    "        epoch_output = Image.open(os.path.join(segmentations, 'image_{}.epoch.{:02d}.png'.format(image_id, epoch)))\n",
    "        ax[i][0].imshow(source)\n",
    "        ax[i][1].imshow(epoch_output)\n",
    "        ax[i][2].imshow(label)\n",
    "        \n",
    "        ax[i][0].set_ylabel('Epoch {}'.format(epoch), rotation=0, size='large')\n",
    "        \n",
    "    ax[0][0].set_title('Source Image')\n",
    "    ax[0][1].set_title('Network Output')\n",
    "    ax[0][2].set_title('Label')\n",
    "    \n",
    "    fig.show()\n",
    "    return fig"
   ]
  },
  {
   "cell_type": "code",
   "execution_count": null,
   "metadata": {},
   "outputs": [],
   "source": [
    "def int_all(array):\n",
    "    return [int(np.round(a)) for a in array]"
   ]
  },
  {
   "cell_type": "code",
   "execution_count": null,
   "metadata": {},
   "outputs": [],
   "source": [
    "SEGMENTATION_DIR = os.path.join(INPUT_DIR, 'logs', 'interesting', 'segmentations')"
   ]
  },
  {
   "cell_type": "code",
   "execution_count": null,
   "metadata": {},
   "outputs": [],
   "source": [
    "validation_segmentation_0 = visualize_change_in_segmentations(SEGMENTATION_DIR,\n",
    "                                                              0,\n",
    "                                                              int_all(np.geomspace(1, 499, 6)))"
   ]
  },
  {
   "cell_type": "code",
   "execution_count": null,
   "metadata": {},
   "outputs": [],
   "source": [
    "validation_segmentation_1 = visualize_change_in_segmentations(SEGMENTATION_DIR,\n",
    "                                                              1,\n",
    "                                                              int_all(np.geomspace(1, 499, 6)))"
   ]
  },
  {
   "cell_type": "code",
   "execution_count": null,
   "metadata": {},
   "outputs": [],
   "source": [
    "validation_segmentation_2 = visualize_change_in_segmentations(SEGMENTATION_DIR,\n",
    "                                                              2,\n",
    "                                                              int_all(np.geomspace(1, 499, 6)))"
   ]
  },
  {
   "cell_type": "code",
   "execution_count": null,
   "metadata": {},
   "outputs": [],
   "source": [
    "def show_best_and_worst(interesting, epochs):\n",
    "    \"\"\"Visualize the best and worst segementations over the specified epochs\"\"\"\n",
    "    fig, ax = sns.mpl.pyplot.subplots(nrows=len(epochs) * 3, ncols=8, figsize=(15,20))\n",
    "    for i, epoch in enumerate(epochs):\n",
    "        ax[i * 3 + 0][0].imshow(Image.open(os.path.join(interesting, 'image.worst.0.epoch{:02d}.input.png'.format(epoch))))\n",
    "        ax[i * 3 + 0][1].imshow(Image.open(os.path.join(interesting, 'image.worst.1.epoch{:02d}.input.png'.format(epoch))))\n",
    "        ax[i * 3 + 0][2].imshow(Image.open(os.path.join(interesting, 'image.worst.2.epoch{:02d}.input.png'.format(epoch))))\n",
    "        ax[i * 3 + 0][3].imshow(Image.open(os.path.join(interesting, 'image.middle.0.epoch{:02d}.input.png'.format(epoch))))\n",
    "        ax[i * 3 + 0][4].imshow(Image.open(os.path.join(interesting, 'image.middle.1.epoch{:02d}.input.png'.format(epoch))))\n",
    "        ax[i * 3 + 0][5].imshow(Image.open(os.path.join(interesting, 'image.best.0.epoch{:02d}.input.png'.format(epoch))))\n",
    "        ax[i * 3 + 0][6].imshow(Image.open(os.path.join(interesting, 'image.best.1.epoch{:02d}.input.png'.format(epoch))))\n",
    "        ax[i * 3 + 0][7].imshow(Image.open(os.path.join(interesting, 'image.best.2.epoch{:02d}.input.png'.format(epoch))))\n",
    "\n",
    "        ax[i * 3 + 1][0].imshow(Image.open(os.path.join(interesting, 'image.worst.0.epoch{:02d}.segmentation.png'.format(epoch))))\n",
    "        ax[i * 3 + 1][1].imshow(Image.open(os.path.join(interesting, 'image.worst.1.epoch{:02d}.segmentation.png'.format(epoch))))\n",
    "        ax[i * 3 + 1][2].imshow(Image.open(os.path.join(interesting, 'image.worst.2.epoch{:02d}.segmentation.png'.format(epoch))))\n",
    "        ax[i * 3 + 1][3].imshow(Image.open(os.path.join(interesting, 'image.middle.0.epoch{:02d}.segmentation.png'.format(epoch))))\n",
    "        ax[i * 3 + 1][4].imshow(Image.open(os.path.join(interesting, 'image.middle.1.epoch{:02d}.segmentation.png'.format(epoch))))\n",
    "        ax[i * 3 + 1][5].imshow(Image.open(os.path.join(interesting, 'image.best.0.epoch{:02d}.segmentation.png'.format(epoch))))\n",
    "        ax[i * 3 + 1][6].imshow(Image.open(os.path.join(interesting, 'image.best.1.epoch{:02d}.segmentation.png'.format(epoch))))\n",
    "        ax[i * 3 + 1][7].imshow(Image.open(os.path.join(interesting, 'image.best.2.epoch{:02d}.segmentation.png'.format(epoch))))\n",
    "\n",
    "        ax[i * 3 + 2][0].imshow(Image.open(os.path.join(interesting, 'image.worst.0.epoch{:02d}.label.png'.format(epoch))))\n",
    "        ax[i * 3 + 2][1].imshow(Image.open(os.path.join(interesting, 'image.worst.1.epoch{:02d}.label.png'.format(epoch))))\n",
    "        ax[i * 3 + 2][2].imshow(Image.open(os.path.join(interesting, 'image.worst.2.epoch{:02d}.label.png'.format(epoch))))\n",
    "        ax[i * 3 + 2][3].imshow(Image.open(os.path.join(interesting, 'image.middle.0.epoch{:02d}.label.png'.format(epoch))))\n",
    "        ax[i * 3 + 2][4].imshow(Image.open(os.path.join(interesting, 'image.middle.1.epoch{:02d}.label.png'.format(epoch))))\n",
    "        ax[i * 3 + 2][5].imshow(Image.open(os.path.join(interesting, 'image.best.0.epoch{:02d}.label.png'.format(epoch))))\n",
    "        ax[i * 3 + 2][6].imshow(Image.open(os.path.join(interesting, 'image.best.1.epoch{:02d}.label.png'.format(epoch))))\n",
    "        ax[i * 3 + 2][7].imshow(Image.open(os.path.join(interesting, 'image.best.2.epoch{:02d}.label.png'.format(epoch))))\n",
    "\n",
    "        ax[i * 3 + 0][0].set_ylabel('E{} Input'.format(epoch), rotation=0, size='large')\n",
    "        ax[i * 3 + 1][0].set_ylabel('E{} Seg'.format(epoch), rotation=0, size='large')\n",
    "        ax[i * 3 + 2][0].set_ylabel('E{} Label'.format(epoch), rotation=0, size='large')\n",
    "\n",
    "    ax[0][0].set_title('Worst 1')\n",
    "    ax[0][1].set_title('Worst 2')\n",
    "    ax[0][2].set_title('Worst 3')\n",
    "\n",
    "    ax[0][3].set_title('Median 1')\n",
    "    ax[0][4].set_title('Median 2')\n",
    "\n",
    "    ax[0][5].set_title('Best 1')\n",
    "    ax[0][6].set_title('Best 2')\n",
    "    ax[0][7].set_title('Best 3')\n",
    "\n",
    "    fig.show()\n",
    "    return fig"
   ]
  },
  {
   "cell_type": "code",
   "execution_count": null,
   "metadata": {},
   "outputs": [],
   "source": [
    "INTERESTING_DIR = os.path.join(INPUT_DIR, 'logs', 'interesting', 'interesting')"
   ]
  },
  {
   "cell_type": "code",
   "execution_count": null,
   "metadata": {},
   "outputs": [],
   "source": [
    "best_and_worst = show_best_and_worst(INTERESTING_DIR, int_all(np.geomspace(1, 499, 3)))"
   ]
  },
  {
   "cell_type": "code",
   "execution_count": null,
   "metadata": {},
   "outputs": [],
   "source": [
    "def write_experiment_results(output_dir, plots):\n",
    "    for name, plot in plots.items():\n",
    "        fig = plot.get_figure() if plot.get_figure() else plot\n",
    "        fig.savefig(os.path.join(output_dir, name))"
   ]
  },
  {
   "cell_type": "code",
   "execution_count": null,
   "metadata": {},
   "outputs": [],
   "source": [
    "write_experiment_results(OUTPUT_DIR, {\n",
    "    \"train_mious.png\": train_mious_by_epoch_plot,\n",
    "    \"val_mious.png\": val_mious_by_epoch_plot,\n",
    "    \"train_loss.png\": train_loss_by_epoch_plot,\n",
    "    \"val_loss.png\": val_loss_by_epoch_plot,\n",
    "    \"best_images.png\": best_and_worst,\n",
    "    \"validation_seg0.png\": validation_segmentation_0,\n",
    "    \"validation_seg1.png\": validation_segmentation_1,\n",
    "    \"validation_seg2.png\": validation_segmentation_2\n",
    "})"
   ]
  },
  {
   "cell_type": "code",
   "execution_count": null,
   "metadata": {},
   "outputs": [],
   "source": []
  }
 ],
 "metadata": {
  "kernelspec": {
   "display_name": "Python 3",
   "language": "python",
   "name": "python3"
  },
  "language_info": {
   "codemirror_mode": {
    "name": "ipython",
    "version": 3
   },
   "file_extension": ".py",
   "mimetype": "text/x-python",
   "name": "python",
   "nbconvert_exporter": "python",
   "pygments_lexer": "ipython3",
   "version": "3.6.4"
  }
 },
 "nbformat": 4,
 "nbformat_minor": 2
}
