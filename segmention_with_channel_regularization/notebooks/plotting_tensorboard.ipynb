{
 "cells": [
  {
   "cell_type": "code",
   "execution_count": null,
   "metadata": {},
   "outputs": [],
   "source": [
    "import io\n",
    "import json\n",
    "import os\n",
    "import sys\n",
    "\n",
    "import pandas as pd\n",
    "import numpy as np\n",
    "import seaborn as sns\n",
    "\n",
    "from tensorboard.backend.application import parse_event_files_spec\n",
    "from tensorboard.backend.event_processing import event_multiplexer\n",
    "from tensorboard.backend.event_processing import event_accumulator as event_accumulator\n",
    "\n",
    "from IPython.display import HTML\n",
    "\n",
    "from PIL import Image\n",
    "\n",
    "from collections import defaultdict\n",
    "from itertools import groupby\n",
    "from operator import itemgetter"
   ]
  },
  {
   "cell_type": "code",
   "execution_count": null,
   "metadata": {},
   "outputs": [],
   "source": [
    "pd.set_option('precision', 3)"
   ]
  },
  {
   "cell_type": "code",
   "execution_count": null,
   "metadata": {},
   "outputs": [],
   "source": [
    "os.chdir('..')\n",
    "EXPERIMENT = os.environ.get(\"EXPERIMENT\", \"none\")\n",
    "INPUT_DIR = os.path.expanduser(\"../experiments/{}\").format(EXPERIMENT)\n",
    "OUTPUT_DIR = \"reports/{}\".format(EXPERIMENT)"
   ]
  },
  {
   "cell_type": "code",
   "execution_count": null,
   "metadata": {},
   "outputs": [],
   "source": [
    "os.makedirs(OUTPUT_DIR, exist_ok=True)"
   ]
  },
  {
   "cell_type": "code",
   "execution_count": null,
   "metadata": {},
   "outputs": [],
   "source": [
    "DEFAULT_SIZE_GUIDANCE = {\n",
    "    event_accumulator.TENSORS: 10,\n",
    "    event_accumulator.IMAGES: 0\n",
    "}\n",
    "\n",
    "RUN_NAME = \"default\"\n",
    "RUN_TAG = \"{}/.\".format(RUN_NAME)\n",
    "\n",
    "multiplexer = event_multiplexer.EventMultiplexer(\n",
    "      size_guidance=DEFAULT_SIZE_GUIDANCE,\n",
    "      purge_orphaned_data=True\n",
    ")\n",
    "multiplexer.AddRunsFromDirectory(\"{}/logs/tensorboard\".format(INPUT_DIR), \"default\")\n",
    "multiplexer.Reload()"
   ]
  },
  {
   "cell_type": "code",
   "execution_count": null,
   "metadata": {},
   "outputs": [],
   "source": [
    "def sorted_by_step(events):\n",
    "    return sorted(events, key=lambda e: e.step)"
   ]
  },
  {
   "cell_type": "code",
   "execution_count": null,
   "metadata": {},
   "outputs": [],
   "source": [
    "train_statistics = [\n",
    "    (miou.value, loss.value)\n",
    "    for miou, loss in zip(sorted_by_step(multiplexer.Scalars(RUN_TAG, 'train/mIoU')),\n",
    "                          sorted_by_step(multiplexer.Scalars(RUN_TAG, 'train/loss')))\n",
    "]\n",
    "val_statistics = [\n",
    "    (miou.value, loss.value)\n",
    "    for miou, loss in zip(sorted_by_step(multiplexer.Scalars(RUN_TAG, 'validation/mIoU')),\n",
    "                          sorted_by_step(multiplexer.Scalars(RUN_TAG, 'validation/loss')))\n",
    "]\n",
    "train_statistics_by_epoch = [\n",
    "    ((miou.step, miou.value), (loss.step, loss.value))\n",
    "    for miou, loss in zip(sorted_by_step(multiplexer.Scalars(RUN_TAG, 'train/mIoU')),\n",
    "                          sorted_by_step(multiplexer.Scalars(RUN_TAG, 'train/loss')))\n",
    "]\n",
    "val_statistics_by_epoch = [\n",
    "    ((miou.step, miou.value), (loss.step, loss.value))\n",
    "    for miou, loss in zip(sorted_by_step(multiplexer.Scalars(RUN_TAG, 'validation/mIoU')),\n",
    "                          sorted_by_step(multiplexer.Scalars(RUN_TAG, 'validation/loss')))\n",
    "]"
   ]
  },
  {
   "cell_type": "code",
   "execution_count": null,
   "metadata": {},
   "outputs": [],
   "source": [
    "train_mious, train_losses = list(zip(*train_statistics))\n",
    "val_mious, val_losses = list(zip(*val_statistics))\n",
    "train_mious_by_epoch, train_losses_by_epoch = list(zip(*train_statistics_by_epoch))\n",
    "val_mious_by_epoch, val_losses_by_epoch = list(zip(*val_statistics_by_epoch))"
   ]
  },
  {
   "cell_type": "code",
   "execution_count": null,
   "metadata": {},
   "outputs": [],
   "source": [
    "def generate_lineplot(dataset, bbox=None, summary_func='max', **kwargs):\n",
    "    transposed = list(zip(*dataset))\n",
    "    grouped_by_epoch = [\n",
    "        {str(i): r for i, r in enumerate(result)}\n",
    "        for result in [\n",
    "            [g[1] for g in group]\n",
    "            for e, group in groupby(dataset, key=itemgetter(0))\n",
    "        ]\n",
    "    ]\n",
    "    mean_stat = np.array([\n",
    "        np.array(list(a.values())).mean() for a in grouped_by_epoch\n",
    "    ])\n",
    "    \n",
    "    # Find the epoch with the \"summary_func\" mean statistics\n",
    "    best_epoch = getattr(mean_stat, 'arg' + summary_func)()\n",
    "    \n",
    "    # Now that we have the best epoch, we can take that one and describe\n",
    "    # statistics about it.\n",
    "    df = pd.DataFrame([grouped_by_epoch[best_epoch]]).T\n",
    "    desc = df.describe()\n",
    "    summary = pd.DataFrame(desc)\n",
    "    summary.columns = [\"Summary\"]\n",
    "    plot = sns.lineplot(*transposed)\n",
    "    plot.set(\n",
    "        **kwargs\n",
    "    )\n",
    "    plot.table(cellText=[['{:.2f}'.format(d[0])] for d in summary.values],\n",
    "               rowLabels=summary.index,\n",
    "               colLabels=summary.columns,\n",
    "               cellLoc='right',\n",
    "               rowLoc='center',\n",
    "               loc='right',\n",
    "               bbox=bbox)\n",
    "    return plot"
   ]
  },
  {
   "cell_type": "code",
   "execution_count": null,
   "metadata": {},
   "outputs": [],
   "source": [
    "train_mious_by_epoch_plot = generate_lineplot(train_mious_by_epoch,\n",
    "                                              xlabel='Epoch',\n",
    "                                              ylabel='mIoU',\n",
    "                                              title='Train mIoU (with error margins)',\n",
    "                                              bbox=[.65,.05,.3,.45])"
   ]
  },
  {
   "cell_type": "code",
   "execution_count": null,
   "metadata": {},
   "outputs": [],
   "source": [
    "val_mious_by_epoch_plot = generate_lineplot(val_mious_by_epoch,\n",
    "                                            xlabel='Epoch',\n",
    "                                            ylabel='mIoU',\n",
    "                                            title='Validation mIoU (with error margins)',\n",
    "                                            bbox=[.65,.05,.3,.45])"
   ]
  },
  {
   "cell_type": "code",
   "execution_count": null,
   "metadata": {},
   "outputs": [],
   "source": [
    "train_loss_by_epoch_plot = generate_lineplot(train_losses_by_epoch,\n",
    "                                             xlabel='Epoch',\n",
    "                                             ylabel='Loss',\n",
    "                                             title='Training Loss (with error margins)',\n",
    "                                             summary_func='min',\n",
    "                                             bbox=[.65,.50,.3,.45])"
   ]
  },
  {
   "cell_type": "code",
   "execution_count": null,
   "metadata": {},
   "outputs": [],
   "source": [
    "val_loss_by_epoch_plot = generate_lineplot(val_losses_by_epoch,\n",
    "                                           xlabel='Epoch',\n",
    "                                           ylabel='Loss',\n",
    "                                           title='Validation Loss (with error margins)',\n",
    "                                           summary_func='min',\n",
    "                                           bbox=[.65,.50,.3,.45])"
   ]
  },
  {
   "cell_type": "code",
   "execution_count": null,
   "metadata": {},
   "outputs": [],
   "source": [
    "def get_max_epoch(statistic):\n",
    "    return statistic[-1][0]"
   ]
  },
  {
   "cell_type": "code",
   "execution_count": null,
   "metadata": {},
   "outputs": [],
   "source": [
    "def maybe_get_segmentation_miou_labels(multiplexer, path):\n",
    "    epoch_labels = defaultdict(str)\n",
    "    \n",
    "    try:\n",
    "        epoch_labels.update({\n",
    "            int(scalar.step): 'mIoU: {:.3f}'.format(float(scalar.value))\n",
    "            for scalar in sorted_by_step(multiplexer.Scalars(RUN_TAG, path))\n",
    "        })\n",
    "    except KeyError:\n",
    "        print('{} does not exist, skipping mIoU labels on images'.format(path))\n",
    "        pass\n",
    "\n",
    "    return epoch_labels"
   ]
  },
  {
   "cell_type": "code",
   "execution_count": null,
   "metadata": {},
   "outputs": [],
   "source": [
    "def visualize_change_in_segmentations(multiplexer, image_id, epochs, set_name=None):\n",
    "    \"\"\"Visualize the change in segmentations over the specified epochs\"\"\"\n",
    "    set_name = set_name or \"validation\"\n",
    "    fig, ax = sns.mpl.pyplot.subplots(nrows=len(epochs), ncols=1, figsize=(12,20))\n",
    "    ax = ax.ravel().T\n",
    "    \n",
    "    segementation_mious = maybe_get_segmentation_miou_labels(multiplexer,\n",
    "                                                             \"{}/reference/{}/mIoU\".format(set_name, image_id))\n",
    "    \n",
    "    multiplexer_image_events = sorted_by_step(multiplexer.Images(RUN_TAG, \"{}/reference/{}\".format(set_name, image_id)))\n",
    "    for i, epoch in enumerate(epochs):\n",
    "        epoch_output = Image.open(io.BytesIO(multiplexer_image_events[epoch - 1].encoded_image_string))\n",
    "        ax[i].imshow(epoch_output)\n",
    "        ax[i].set_ylabel('Epoch {}\\n'.format(epoch) + segementation_mious[epoch - 1],\n",
    "                         rotation=0,\n",
    "                         labelpad=60.0)\n",
    "        ax[i].get_xaxis().set_visible(False)\n",
    "        ax[i].get_yaxis().set_ticks([])\n",
    "\n",
    "    ax[0].set_title('Segmentation Result')\n",
    "\n",
    "    fig.show()\n",
    "    return fig"
   ]
  },
  {
   "cell_type": "code",
   "execution_count": null,
   "metadata": {},
   "outputs": [],
   "source": [
    "def visualize_change_in_segmentations_video(multiplexer, image_id, epochs, set_name=None):\n",
    "    \"\"\"Visualize the change in segmentations over the specified epochs\"\"\"\n",
    "    from matplotlib.animation import FuncAnimation\n",
    "    set_name = set_name or \"validation\"\n",
    "    \n",
    "    segmentation_mious = maybe_get_segmentation_miou_labels(multiplexer,\n",
    "                                                            \"{}/reference/{}/mIoU\".format(set_name, image_id))\n",
    "    \n",
    "    multiplexer_image_events = sorted_by_step(multiplexer.Images(RUN_TAG, \"{}/reference/{}\".format(set_name, image_id)))\n",
    "    \n",
    "    fig = sns.mpl.pyplot.figure()\n",
    "    ax = sns.mpl.pyplot.axes()\n",
    "    ax.get_xaxis().set_visible(False)\n",
    "    ax.get_yaxis().set_ticks([])\n",
    "\n",
    "    ax.set_xlabel('Epoch {} {}'.format(1, segmentation_mious[0]))\n",
    "    label = ax.xaxis.get_label()\n",
    "    img = ax.imshow(Image.open(io.BytesIO(multiplexer_image_events[0].encoded_image_string)))\n",
    "    \n",
    "    def init():\n",
    "        return label, img\n",
    "    \n",
    "    def animate(epoch):\n",
    "        label.set_text('Epoch {} {}'.format(1, segmentation_mious[epoch - 1]))\n",
    "        img.set_array(np.array(Image.open(io.BytesIO(multiplexer_image_events[epoch - 1].encoded_image_string))))\n",
    "        return label, img\n",
    "    \n",
    "    anim = FuncAnimation(fig, animate, init_func=init,\n",
    "                         frames=range(epochs), interval=32, blit=True)\n",
    "    sns.mpl.pyplot.close(anim._fig)\n",
    "    return anim"
   ]
  },
  {
   "cell_type": "code",
   "execution_count": null,
   "metadata": {},
   "outputs": [],
   "source": [
    "def int_all(array):\n",
    "    return [int(np.round(a)) for a in array]\n",
    "\n",
    "def n_epochs(multiplexer, scalar_event):\n",
    "    return max([e.step for e in multiplexer.Scalars(RUN_TAG, scalar_event)])"
   ]
  },
  {
   "cell_type": "code",
   "execution_count": null,
   "metadata": {},
   "outputs": [],
   "source": [
    "SEGMENTATION_DIR = os.path.join(INPUT_DIR, 'logs', 'interesting', 'segmentations')"
   ]
  },
  {
   "cell_type": "code",
   "execution_count": null,
   "metadata": {},
   "outputs": [],
   "source": [
    "N_EPOCHS = n_epochs(multiplexer, \"train/reference/0/mIoU\")"
   ]
  },
  {
   "cell_type": "code",
   "execution_count": null,
   "metadata": {},
   "outputs": [],
   "source": [
    "validation_segmentation_0 = visualize_change_in_segmentations(multiplexer,\n",
    "                                                              0,\n",
    "                                                              int_all(np.geomspace(1,\n",
    "                                                                                   N_EPOCHS,\n",
    "                                                                                   6)))"
   ]
  },
  {
   "cell_type": "code",
   "execution_count": null,
   "metadata": {},
   "outputs": [],
   "source": [
    "validation_segmentation_1 = visualize_change_in_segmentations(multiplexer,\n",
    "                                                              1,\n",
    "                                                              int_all(np.geomspace(1,\n",
    "                                                                                   N_EPOCHS,\n",
    "                                                                                   6)))"
   ]
  },
  {
   "cell_type": "code",
   "execution_count": null,
   "metadata": {},
   "outputs": [],
   "source": [
    "validation_segmentation_2 = visualize_change_in_segmentations(multiplexer,\n",
    "                                                              2,\n",
    "                                                              int_all(np.geomspace(1,\n",
    "                                                                                   N_EPOCHS,\n",
    "                                                                                   6)))"
   ]
  },
  {
   "cell_type": "code",
   "execution_count": null,
   "metadata": {},
   "outputs": [],
   "source": [
    "validation_segmentation_video_0 = visualize_change_in_segmentations_video(multiplexer,\n",
    "                                                                          0,\n",
    "                                                                          N_EPOCHS)\n",
    "HTML(validation_segmentation_video_0.to_html5_video())"
   ]
  },
  {
   "cell_type": "code",
   "execution_count": null,
   "metadata": {},
   "outputs": [],
   "source": [
    "validation_segmentation_video_1 = visualize_change_in_segmentations_video(multiplexer,\n",
    "                                                                          1,\n",
    "                                                                          N_EPOCHS)\n",
    "HTML(validation_segmentation_video_1.to_html5_video())"
   ]
  },
  {
   "cell_type": "code",
   "execution_count": null,
   "metadata": {},
   "outputs": [],
   "source": [
    "validation_segmentation_video_2 = visualize_change_in_segmentations_video(multiplexer,\n",
    "                                                                          2,\n",
    "                                                                          N_EPOCHS)\n",
    "HTML(validation_segmentation_video_2.to_html5_video())"
   ]
  },
  {
   "cell_type": "code",
   "execution_count": null,
   "metadata": {},
   "outputs": [],
   "source": [
    "TRAIN_SEGMENTATION_DIR = os.path.join(INPUT_DIR, 'logs', 'interesting', 'segmentations', 'train')"
   ]
  },
  {
   "cell_type": "code",
   "execution_count": null,
   "metadata": {},
   "outputs": [],
   "source": [
    "train_segmentation_0 = visualize_change_in_segmentations(multiplexer,\n",
    "                                                         0,\n",
    "                                                         int_all(np.geomspace(1,\n",
    "                                                                              N_EPOCHS,\n",
    "                                                                              6)),\n",
    "                                                         set_name=\"train\")"
   ]
  },
  {
   "cell_type": "code",
   "execution_count": null,
   "metadata": {},
   "outputs": [],
   "source": [
    "train_segmentation_1 = visualize_change_in_segmentations(multiplexer,\n",
    "                                                         1,\n",
    "                                                         int_all(np.geomspace(1,\n",
    "                                                                              N_EPOCHS,\n",
    "                                                                              6)),\n",
    "                                                         set_name=\"train\")"
   ]
  },
  {
   "cell_type": "code",
   "execution_count": null,
   "metadata": {},
   "outputs": [],
   "source": [
    "train_segmentation_2 = visualize_change_in_segmentations(multiplexer,\n",
    "                                                         2,\n",
    "                                                         int_all(np.geomspace(1,\n",
    "                                                                              N_EPOCHS,\n",
    "                                                                              6)),\n",
    "                                                         set_name=\"train\")"
   ]
  },
  {
   "cell_type": "code",
   "execution_count": null,
   "metadata": {},
   "outputs": [],
   "source": [
    "train_segmentation_video_0 = visualize_change_in_segmentations_video(multiplexer,\n",
    "                                                                     0,\n",
    "                                                                     N_EPOCHS,\n",
    "                                                                     set_name=\"train\")\n",
    "HTML(train_segmentation_video_0.to_html5_video())"
   ]
  },
  {
   "cell_type": "code",
   "execution_count": null,
   "metadata": {},
   "outputs": [],
   "source": [
    "train_segmentation_video_1 = visualize_change_in_segmentations_video(multiplexer,\n",
    "                                                                     1,\n",
    "                                                                     N_EPOCHS,\n",
    "                                                                     set_name=\"train\")\n",
    "HTML(train_segmentation_video_1.to_html5_video())"
   ]
  },
  {
   "cell_type": "code",
   "execution_count": null,
   "metadata": {},
   "outputs": [],
   "source": [
    "train_segmentation_video_2 = visualize_change_in_segmentations_video(multiplexer,\n",
    "                                                                     2,\n",
    "                                                                     N_EPOCHS,\n",
    "                                                                     set_name=\"train\")\n",
    "HTML(train_segmentation_video_2.to_html5_video())"
   ]
  },
  {
   "cell_type": "code",
   "execution_count": null,
   "metadata": {},
   "outputs": [],
   "source": [
    "def show_best_and_worst(multiplexer, epochs):\n",
    "    \"\"\"Visualize the best and worst segementations over the specified epochs\"\"\"\n",
    "    fig, ax = sns.mpl.pyplot.subplots(nrows=len(epochs), ncols=8, figsize=(15, 10))\n",
    "    sorted_images = {\n",
    "        k: sorted_by_step(v) for k, v in\n",
    "        {\n",
    "            \"validation/worst/0\": multiplexer.Images(RUN_TAG, \"validation/worst/0\"),\n",
    "            \"validation/worst/1\": multiplexer.Images(RUN_TAG, \"validation/worst/1\"),\n",
    "            \"validation/worst/2\": multiplexer.Images(RUN_TAG, \"validation/worst/2\"),\n",
    "            \"validation/middle/0\": multiplexer.Images(RUN_TAG, \"validation/middle/0\"),\n",
    "            \"validation/middle/1\": multiplexer.Images(RUN_TAG, \"validation/middle/1\"),\n",
    "            \"validation/best/0\": multiplexer.Images(RUN_TAG, \"validation/best/0\"),\n",
    "            \"validation/best/1\": multiplexer.Images(RUN_TAG, \"validation/best/1\"),\n",
    "            \"validation/best/2\": multiplexer.Images(RUN_TAG, \"validation/best/2\")\n",
    "        }.items()\n",
    "    }\n",
    "    \n",
    "    miou_labels = {\n",
    "        \"worst\": {\n",
    "            0: maybe_get_segmentation_miou_labels(multiplexer, \"validation/worst/0/mIoU\"),\n",
    "            1: maybe_get_segmentation_miou_labels(multiplexer, \"validation/worst/1/mIoU\"),\n",
    "            2: maybe_get_segmentation_miou_labels(multiplexer, \"validation/worst/2/mIoU\"),\n",
    "        },\n",
    "        \"middle\": {\n",
    "            0: maybe_get_segmentation_miou_labels(multiplexer, \"validation/middle/0/mIoU\"),\n",
    "            1: maybe_get_segmentation_miou_labels(multiplexer, \"validation/middle/1/mIoU\"),\n",
    "        },\n",
    "        \"best\": {\n",
    "            0: maybe_get_segmentation_miou_labels(multiplexer, \"validation/best/0/mIoU\"),\n",
    "            1: maybe_get_segmentation_miou_labels(multiplexer, \"validation/best/1/mIoU\"),\n",
    "            2: maybe_get_segmentation_miou_labels(multiplexer, \"validation/best/2/mIoU\"),\n",
    "        }\n",
    "    }\n",
    "\n",
    "    for i, epoch in enumerate(epochs):\n",
    "        ax[i][0].imshow(Image.open(io.BytesIO(sorted_images[\"validation/worst/0\"][epoch - 1].encoded_image_string)))\n",
    "        ax[i][0].set_xlabel(miou_labels[\"worst\"][0][epoch - 1])\n",
    "        ax[i][1].imshow(Image.open(io.BytesIO(sorted_images[\"validation/worst/1\"][epoch - 1].encoded_image_string)))\n",
    "        ax[i][1].set_xlabel(miou_labels[\"worst\"][1][epoch - 1])\n",
    "        ax[i][2].imshow(Image.open(io.BytesIO(sorted_images[\"validation/worst/2\"][epoch - 1].encoded_image_string)))\n",
    "        ax[i][2].set_xlabel(miou_labels[\"worst\"][2][epoch - 1])\n",
    "        \n",
    "        ax[i][3].imshow(Image.open(io.BytesIO(sorted_images[\"validation/middle/0\"][epoch - 1].encoded_image_string)))\n",
    "        ax[i][3].set_xlabel(miou_labels[\"middle\"][0][epoch - 1])\n",
    "        ax[i][4].imshow(Image.open(io.BytesIO(sorted_images[\"validation/middle/1\"][epoch - 1].encoded_image_string)))\n",
    "        ax[i][4].set_xlabel(miou_labels[\"middle\"][1][epoch - 1])\n",
    "\n",
    "        ax[i][5].imshow(Image.open(io.BytesIO(sorted_images[\"validation/best/0\"][epoch - 1].encoded_image_string)))\n",
    "        ax[i][5].set_xlabel(miou_labels[\"best\"][0][epoch - 1])\n",
    "        ax[i][6].imshow(Image.open(io.BytesIO(sorted_images[\"validation/best/1\"][epoch - 1].encoded_image_string)))\n",
    "        ax[i][6].set_xlabel(miou_labels[\"best\"][1][epoch - 1])\n",
    "        ax[i][7].imshow(Image.open(io.BytesIO(sorted_images[\"validation/best/2\"][epoch - 1].encoded_image_string)))\n",
    "        ax[i][7].set_xlabel(miou_labels[\"best\"][2][epoch - 1])\n",
    "\n",
    "        for j in range(0, 8):\n",
    "            ax[i][j].get_xaxis().set_ticks([])\n",
    "            ax[i][j].get_yaxis().set_ticks([])\n",
    "\n",
    "        ax[i][0].set_ylabel('Epoch {}'.format(epoch), rotation=0, size='large', labelpad=40)\n",
    "    \n",
    "    ax[0][0].set_title('Worst 1')\n",
    "    ax[0][1].set_title('Worst 2')\n",
    "    ax[0][2].set_title('Worst 3')\n",
    "\n",
    "    ax[0][3].set_title('Median 1')\n",
    "    ax[0][4].set_title('Median 2')\n",
    "\n",
    "    ax[0][5].set_title('Best 1')\n",
    "    ax[0][6].set_title('Best 2')\n",
    "    ax[0][7].set_title('Best 3')\n",
    "\n",
    "    fig.show()\n",
    "    return fig"
   ]
  },
  {
   "cell_type": "code",
   "execution_count": null,
   "metadata": {},
   "outputs": [],
   "source": [
    "INTERESTING_DIR = os.path.join(INPUT_DIR, 'logs', 'interesting', 'interesting')"
   ]
  },
  {
   "cell_type": "code",
   "execution_count": null,
   "metadata": {},
   "outputs": [],
   "source": [
    "best_and_worst = show_best_and_worst(multiplexer, int_all(np.geomspace(1, N_EPOCHS, 6)))"
   ]
  },
  {
   "cell_type": "code",
   "execution_count": null,
   "metadata": {},
   "outputs": [],
   "source": [
    "def generate_voc_classes_legend_from_image_colormap(label_path):\n",
    "    classes = ('background',\n",
    "               'aeroplane',\n",
    "               'bicycle',\n",
    "               'bird',\n",
    "               'boat',\n",
    "               'bottle',\n",
    "               'bus',\n",
    "               'car',\n",
    "               'cat',\n",
    "               'chair',\n",
    "               'cow',\n",
    "               'diningtable',\n",
    "               'dog',\n",
    "               'horse',\n",
    "               'motorbike',\n",
    "               'person',\n",
    "               'pottedplant',\n",
    "               'sheep',\n",
    "               'sofa',\n",
    "               'train',\n",
    "               'tvmonitor')\n",
    "    label_image = Image.open(label_path)\n",
    "    palette = label_image.getpalette()\n",
    "\n",
    "    fig, ax = sns.mpl.pyplot.subplots(ncols=3, nrows=7)\n",
    "    ax = ax.ravel()\n",
    "\n",
    "    for i in range(0, 21):\n",
    "        im = Image.fromarray(np.array([[i]]).astype('uint8'), mode='P')\n",
    "        im.putpalette(palette)\n",
    "        im.resize((100, 100))\n",
    "        ax[i].set_xticks([])\n",
    "        ax[i].set_yticks([])\n",
    "        ax[i].imshow(im)\n",
    "        ax[i].set_xlabel(classes[i])\n",
    "\n",
    "    fig.tight_layout()\n",
    "    return fig"
   ]
  },
  {
   "cell_type": "code",
   "execution_count": null,
   "metadata": {},
   "outputs": [],
   "source": [
    "generate_voc_classes_legend_from_image_colormap('/u/77/spilsbt1/unix/aalto-CS-E4890-deep-learning/project/data/VOCdevkit/VOC2012/SegmentationClass/2007_000033.png')"
   ]
  },
  {
   "cell_type": "code",
   "execution_count": null,
   "metadata": {},
   "outputs": [],
   "source": [
    "def write_experiment_results(output_dir, plots):\n",
    "    for name, plot in plots.items():\n",
    "        if not plot:\n",
    "            continue\n",
    "        fig = plot.get_figure() if plot.get_figure() else plot\n",
    "        fig.savefig(os.path.join(output_dir, name))"
   ]
  },
  {
   "cell_type": "code",
   "execution_count": null,
   "metadata": {},
   "outputs": [],
   "source": [
    "write_experiment_results(OUTPUT_DIR, {\n",
    "    \"train_mious.png\": train_mious_by_epoch_plot,\n",
    "    \"val_mious.png\": val_mious_by_epoch_plot,\n",
    "    \"train_loss.png\": train_loss_by_epoch_plot,\n",
    "    \"val_loss.png\": val_loss_by_epoch_plot,\n",
    "    \"best_images.png\": best_and_worst,\n",
    "    \"train_seg0.png\": train_segmentation_0,\n",
    "    \"train_seg1.png\": train_segmentation_1,\n",
    "    \"train_seg2.png\": train_segmentation_2,\n",
    "    \"validation_seg0.png\": validation_segmentation_0,\n",
    "    \"validation_seg1.png\": validation_segmentation_1,\n",
    "    \"validation_seg2.png\": validation_segmentation_2\n",
    "})"
   ]
  },
  {
   "cell_type": "code",
   "execution_count": null,
   "metadata": {},
   "outputs": [],
   "source": [
    "def save_animation_to_video(animation, path):\n",
    "    Writer = sns.mpl.animation.writers['ffmpeg']\n",
    "    writer = Writer(fps=30, bitrate=1800)\n",
    "    animation.save(os.path.join(OUTPUT_DIR, path), writer=writer)"
   ]
  },
  {
   "cell_type": "code",
   "execution_count": null,
   "metadata": {},
   "outputs": [],
   "source": [
    "save_animation_to_video(train_segmentation_video_0, \"train_seg0_progress.mp4\")\n",
    "save_animation_to_video(train_segmentation_video_1, \"train_seg1_progress.mp4\")\n",
    "save_animation_to_video(train_segmentation_video_2, \"train_seg2_progress.mp4\")"
   ]
  },
  {
   "cell_type": "code",
   "execution_count": null,
   "metadata": {},
   "outputs": [],
   "source": []
  }
 ],
 "metadata": {
  "kernelspec": {
   "display_name": "Python 3",
   "language": "python",
   "name": "python3"
  },
  "language_info": {
   "codemirror_mode": {
    "name": "ipython",
    "version": 3
   },
   "file_extension": ".py",
   "mimetype": "text/x-python",
   "name": "python",
   "nbconvert_exporter": "python",
   "pygments_lexer": "ipython3",
   "version": "3.6.8"
  }
 },
 "nbformat": 4,
 "nbformat_minor": 2
}
