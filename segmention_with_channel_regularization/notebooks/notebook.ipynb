{
 "cells": [
  {
   "cell_type": "code",
   "execution_count": null,
   "metadata": {},
   "outputs": [],
   "source": [
    "import sys\n",
    "sys.path.append(\"..\")"
   ]
  },
  {
   "cell_type": "code",
   "execution_count": null,
   "metadata": {},
   "outputs": [],
   "source": [
    "import os"
   ]
  },
  {
   "cell_type": "code",
   "execution_count": null,
   "metadata": {},
   "outputs": [],
   "source": [
    "import torch\n",
    "import torch.optim as optim"
   ]
  },
  {
   "cell_type": "code",
   "execution_count": null,
   "metadata": {},
   "outputs": [],
   "source": [
    "import train_semantic_segmentation as semseg\n",
    "from train_semantic_segmentation import (\n",
    "    call_many,\n",
    "    save_model_on_better_miou,\n",
    "    save_segmentations_for_image,\n",
    "    save_interesting_images\n",
    ")"
   ]
  },
  {
   "cell_type": "code",
   "execution_count": null,
   "metadata": {},
   "outputs": [],
   "source": [
    "from matplotlib import pyplot as plt"
   ]
  },
  {
   "cell_type": "code",
   "execution_count": null,
   "metadata": {},
   "outputs": [],
   "source": [
    "EXPERIMENT_NAME = 'experiments/overfit-no-chandrop-small'"
   ]
  },
  {
   "cell_type": "code",
   "execution_count": null,
   "metadata": {},
   "outputs": [],
   "source": [
    "DATA_PATHS = {\n",
    "    'source': os.path.join('../../data/VOCdevkit/VOC2012/JPEGImages'),\n",
    "    'segmentation': os.path.join('../../data/VOCdevkit/VOC2012/SegmentationClass'),\n",
    "    'train': os.path.join('../../data/VOCdevkit/VOC2012/ImageSets/Segmentation/train.txt'),\n",
    "    'val': os.path.join('../../data/VOCdevkit/VOC2012/ImageSets/Segmentation/val.txt')\n",
    "}"
   ]
  },
  {
   "cell_type": "code",
   "execution_count": null,
   "metadata": {},
   "outputs": [],
   "source": [
    "train_loader, val_loader, test_loader = semseg.load_data(\n",
    "    DATA_PATHS['source'],\n",
    "    DATA_PATHS['segmentation'],\n",
    "    DATA_PATHS['train'],\n",
    "    DATA_PATHS['val'],\n",
    "    DATA_PATHS['val']\n",
    ")"
   ]
  },
  {
   "cell_type": "code",
   "execution_count": null,
   "metadata": {},
   "outputs": [],
   "source": [
    "val_loader_with_viewable_transforms = val_loader.dataset.with_viewable_transforms()"
   ]
  },
  {
   "cell_type": "code",
   "execution_count": null,
   "metadata": {},
   "outputs": [],
   "source": [
    "device = 'cuda' if torch.cuda.is_available() else 'cpu'"
   ]
  },
  {
   "cell_type": "code",
   "execution_count": null,
   "metadata": {},
   "outputs": [],
   "source": [
    "learning_rate = 0.007\n",
    "epochs = 50"
   ]
  },
  {
   "cell_type": "code",
   "execution_count": null,
   "metadata": {},
   "outputs": [],
   "source": [
    "model = semseg.DeepLabModel(input_channels=3, num_classes=21).to(device)"
   ]
  },
  {
   "cell_type": "code",
   "execution_count": null,
   "metadata": {},
   "outputs": [],
   "source": [
    "criterion = semseg.segmentation_cross_entropy_loss(size_average=None,\n",
    "                                                   ignore_index=255,\n",
    "                                                   device=device)\n",
    "optimizer = optim.SGD(semseg.differential_learning_rates(model, [\n",
    "                          ((model.feature_detection_layers, ), 1),\n",
    "                          ((model.spatial_pyramid_pooling, model.decoder), 10)\n",
    "                      ], learning_rate),\n",
    "                      momentum=0.9,\n",
    "                      weight_decay=5e-4,\n",
    "                      nesterov=False)\n",
    "scheduler = semseg.PolynomialLearningRateScheduler(optimizer,\n",
    "                                                   learning_rate,\n",
    "                                                   epochs,\n",
    "                                                   len(train_loader))"
   ]
  },
  {
   "cell_type": "code",
   "execution_count": null,
   "metadata": {},
   "outputs": [],
   "source": [
    "def log_statistics_to_notebook(stats):\n",
    "    print(stats)"
   ]
  },
  {
   "cell_type": "code",
   "execution_count": null,
   "metadata": {},
   "outputs": [],
   "source": [
    "semseg.training_loop(model,\n",
    "                     train_loader,\n",
    "                     val_loader,\n",
    "                     criterion,\n",
    "                     optimizer,\n",
    "                     scheduler,\n",
    "                     device,\n",
    "                     epochs=epochs,\n",
    "                     statistics_callback=call_many(\n",
    "                          semseg.log_statistics(os.path.join(EXPERIMENT_NAME, 'logs', 'statistics'), False),\n",
    "                          # Take the first image from the first three batches\n",
    "                          *[save_segmentations_for_image(model,\n",
    "                                                         val_loader_with_viewable_transforms[i][\"image\"].to(device),\n",
    "                                                         val_loader_with_viewable_transforms[i][\"label\"].to(device),\n",
    "                                                         os.path.join(\n",
    "                                                             EXPERIMENT_NAME,\n",
    "                                                             \"logs\",\n",
    "                                                             \"segmentations\",\n",
    "                                                             \"image_{}.png\".format(i)\n",
    "                                                         ))\n",
    "                            for i in range(0, 3)]\n",
    "                     ),\n",
    "                     epoch_end_callback=call_many(\n",
    "                          save_model_on_better_miou(os.path.join(EXPERIMENT_NAME, \"saved/model.pt\"),\n",
    "                                                    0),\n",
    "                          save_interesting_images(os.path.join(EXPERIMENT_NAME,\n",
    "                                                               \"logs\",\n",
    "                                                               \"interesting\",\n",
    "                                                               \"image.png\"),\n",
    "                                                  device)\n",
    "                     ),\n",
    "                     start_epoch=0)"
   ]
  },
  {
   "cell_type": "code",
   "execution_count": null,
   "metadata": {},
   "outputs": [],
   "source": []
  }
 ],
 "metadata": {
  "kernelspec": {
   "display_name": "Python 3",
   "language": "python",
   "name": "python3"
  },
  "language_info": {
   "codemirror_mode": {
    "name": "ipython",
    "version": 3
   },
   "file_extension": ".py",
   "mimetype": "text/x-python",
   "name": "python",
   "nbconvert_exporter": "python",
   "pygments_lexer": "ipython3",
   "version": "3.6.7"
  }
 },
 "nbformat": 4,
 "nbformat_minor": 2
}
